{
 "cells": [
  {
   "cell_type": "markdown",
   "metadata": {},
   "source": [
    "Projektni zadatak 2 - Model za analizu sentimenata koji identifikuje emocije koje se prenose u datom tekstu\n",
    "\n"
   ]
  },
  {
   "cell_type": "markdown",
   "metadata": {},
   "source": [
    "Korak 1 - Uvoz biblioteka i učitavanje ulaznih podataka"
   ]
  },
  {
   "cell_type": "markdown",
   "metadata": {},
   "source": [
    "Prvo ćemo uvesti potrebne biblioteke za analizu teksta i analizu sentimenta, kao što su pandas za rukovanje podacima, nltk za obradu prirodnog jezika i SentimentlntensityAnalyzer za analizu sentimenta.\n",
    "\n",
    "Kada je okruženje postavljeno, učitavamo skup podataka Amazon recenzija koristeći pd.read_csv(). Ovo će kreirati DataFrame objekat u Python-u koji možemo koristiti za analizu podataka. Sadržaj DataFrame-a prikazujemo koristeći df."
   ]
  },
  {
   "cell_type": "code",
   "execution_count": 3,
   "metadata": {},
   "outputs": [
    {
     "data": {
      "text/html": [
       "<div>\n",
       "<style scoped>\n",
       "    .dataframe tbody tr th:only-of-type {\n",
       "        vertical-align: middle;\n",
       "    }\n",
       "\n",
       "    .dataframe tbody tr th {\n",
       "        vertical-align: top;\n",
       "    }\n",
       "\n",
       "    .dataframe thead th {\n",
       "        text-align: right;\n",
       "    }\n",
       "</style>\n",
       "<table border=\"1\" class=\"dataframe\">\n",
       "  <thead>\n",
       "    <tr style=\"text-align: right;\">\n",
       "      <th></th>\n",
       "      <th>reviewText</th>\n",
       "      <th>Score</th>\n",
       "    </tr>\n",
       "  </thead>\n",
       "  <tbody>\n",
       "    <tr>\n",
       "      <th>0</th>\n",
       "      <td>This is a one of the best apps acording to a b...</td>\n",
       "      <td>1</td>\n",
       "    </tr>\n",
       "    <tr>\n",
       "      <th>1</th>\n",
       "      <td>This is a pretty good version of the game for ...</td>\n",
       "      <td>1</td>\n",
       "    </tr>\n",
       "    <tr>\n",
       "      <th>2</th>\n",
       "      <td>this is a really cool game. there are a bunch ...</td>\n",
       "      <td>1</td>\n",
       "    </tr>\n",
       "    <tr>\n",
       "      <th>3</th>\n",
       "      <td>This is a silly game and can be frustrating, b...</td>\n",
       "      <td>1</td>\n",
       "    </tr>\n",
       "    <tr>\n",
       "      <th>4</th>\n",
       "      <td>This is a terrific game on any pad. Hrs of fun...</td>\n",
       "      <td>1</td>\n",
       "    </tr>\n",
       "    <tr>\n",
       "      <th>...</th>\n",
       "      <td>...</td>\n",
       "      <td>...</td>\n",
       "    </tr>\n",
       "    <tr>\n",
       "      <th>95</th>\n",
       "      <td>I'll admit, I'm late to the game for getting t...</td>\n",
       "      <td>1</td>\n",
       "    </tr>\n",
       "    <tr>\n",
       "      <th>96</th>\n",
       "      <td>I love angry birds, I have no issue with ad su...</td>\n",
       "      <td>0</td>\n",
       "    </tr>\n",
       "    <tr>\n",
       "      <th>97</th>\n",
       "      <td>I love the game and levels but I never have ti...</td>\n",
       "      <td>0</td>\n",
       "    </tr>\n",
       "    <tr>\n",
       "      <th>98</th>\n",
       "      <td>I see nothing wrong with this game but I busy ...</td>\n",
       "      <td>0</td>\n",
       "    </tr>\n",
       "    <tr>\n",
       "      <th>99</th>\n",
       "      <td>it isn't that great it gets too hard and is re...</td>\n",
       "      <td>0</td>\n",
       "    </tr>\n",
       "  </tbody>\n",
       "</table>\n",
       "<p>100 rows × 2 columns</p>\n",
       "</div>"
      ],
      "text/plain": [
       "                                           reviewText  Score\n",
       "0   This is a one of the best apps acording to a b...      1\n",
       "1   This is a pretty good version of the game for ...      1\n",
       "2   this is a really cool game. there are a bunch ...      1\n",
       "3   This is a silly game and can be frustrating, b...      1\n",
       "4   This is a terrific game on any pad. Hrs of fun...      1\n",
       "..                                                ...    ...\n",
       "95  I'll admit, I'm late to the game for getting t...      1\n",
       "96  I love angry birds, I have no issue with ad su...      0\n",
       "97  I love the game and levels but I never have ti...      0\n",
       "98  I see nothing wrong with this game but I busy ...      0\n",
       "99  it isn't that great it gets too hard and is re...      0\n",
       "\n",
       "[100 rows x 2 columns]"
      ]
     },
     "execution_count": 3,
     "metadata": {},
     "output_type": "execute_result"
    }
   ],
   "source": [
    "# Uvoz neophodnih biblioteka\n",
    "\n",
    "import pandas as pd\n",
    "\n",
    "import nltk\n",
    "\n",
    "from nltk.sentiment.vader import SentimentIntensityAnalyzer\n",
    "\n",
    "from nltk.corpus import stopwords\n",
    "\n",
    "from nltk.tokenize import word_tokenize\n",
    "\n",
    "from nltk.stem import WordNetLemmatizer\n",
    "\n",
    "# Učitavanje podataka\n",
    "df = pd.read_csv('https://raw.githubusercontent.com/pycaret/pycaret/master/datasets/amazon.csv')\n",
    "\n",
    "df = df.head(100)\n",
    "\n",
    "df = df.rename(columns={\"Positive\" : \"Score\"})\n",
    "\n",
    "df"
   ]
  },
  {
   "cell_type": "markdown",
   "metadata": {},
   "source": [
    "Korak 2 - Predprocesiranje teksta"
   ]
  },
  {
   "cell_type": "markdown",
   "metadata": {},
   "source": [
    "Definišemo funkciju preprocess_text u kojoj prvo tokenizujemo tekst koristeći funkciju word_tokenize iz nltk biblioteke. Zatim uklanjamo stop-riječi iz tokenizovanog teksta koristeći modul stopwords iz nltk-a i na kraju lematizujemo filtrirane tokene pomoću modula WordNetLemmatizer (takođe iz nltk biblioteke). Pod lematizacijom riječi podrazumijevamo postupak svođenja riječi na osnovni oblik. Konačno, funkcija joins spaja lematizovane tokene nazad u string i vraća obrađeni tekst. "
   ]
  },
  {
   "cell_type": "code",
   "execution_count": 4,
   "metadata": {},
   "outputs": [
    {
     "data": {
      "text/html": [
       "<div>\n",
       "<style scoped>\n",
       "    .dataframe tbody tr th:only-of-type {\n",
       "        vertical-align: middle;\n",
       "    }\n",
       "\n",
       "    .dataframe tbody tr th {\n",
       "        vertical-align: top;\n",
       "    }\n",
       "\n",
       "    .dataframe thead th {\n",
       "        text-align: right;\n",
       "    }\n",
       "</style>\n",
       "<table border=\"1\" class=\"dataframe\">\n",
       "  <thead>\n",
       "    <tr style=\"text-align: right;\">\n",
       "      <th></th>\n",
       "      <th>reviewText</th>\n",
       "      <th>Score</th>\n",
       "    </tr>\n",
       "  </thead>\n",
       "  <tbody>\n",
       "    <tr>\n",
       "      <th>0</th>\n",
       "      <td>one best apps acording bunch people agree bomb...</td>\n",
       "      <td>1</td>\n",
       "    </tr>\n",
       "    <tr>\n",
       "      <th>1</th>\n",
       "      <td>pretty good version game free . lot different ...</td>\n",
       "      <td>1</td>\n",
       "    </tr>\n",
       "    <tr>\n",
       "      <th>2</th>\n",
       "      <td>really cool game . bunch level find golden egg...</td>\n",
       "      <td>1</td>\n",
       "    </tr>\n",
       "    <tr>\n",
       "      <th>3</th>\n",
       "      <td>silly game frustrating , lot fun definitely re...</td>\n",
       "      <td>1</td>\n",
       "    </tr>\n",
       "    <tr>\n",
       "      <th>4</th>\n",
       "      <td>terrific game pad . hr fun . grandkids love . ...</td>\n",
       "      <td>1</td>\n",
       "    </tr>\n",
       "    <tr>\n",
       "      <th>...</th>\n",
       "      <td>...</td>\n",
       "      <td>...</td>\n",
       "    </tr>\n",
       "    <tr>\n",
       "      <th>95</th>\n",
       "      <td>'ll admit , 'm late game getting wonderful gam...</td>\n",
       "      <td>1</td>\n",
       "    </tr>\n",
       "    <tr>\n",
       "      <th>96</th>\n",
       "      <td>love angry bird , issue ad supported game . re...</td>\n",
       "      <td>0</td>\n",
       "    </tr>\n",
       "    <tr>\n",
       "      <th>97</th>\n",
       "      <td>love game level never time enjoy far get anoth...</td>\n",
       "      <td>0</td>\n",
       "    </tr>\n",
       "    <tr>\n",
       "      <th>98</th>\n",
       "      <td>see nothing wrong game busy n't think 's fun ....</td>\n",
       "      <td>0</td>\n",
       "    </tr>\n",
       "    <tr>\n",
       "      <th>99</th>\n",
       "      <td>n't great get hard really frustrating . would ...</td>\n",
       "      <td>0</td>\n",
       "    </tr>\n",
       "  </tbody>\n",
       "</table>\n",
       "<p>100 rows × 2 columns</p>\n",
       "</div>"
      ],
      "text/plain": [
       "                                           reviewText  Score\n",
       "0   one best apps acording bunch people agree bomb...      1\n",
       "1   pretty good version game free . lot different ...      1\n",
       "2   really cool game . bunch level find golden egg...      1\n",
       "3   silly game frustrating , lot fun definitely re...      1\n",
       "4   terrific game pad . hr fun . grandkids love . ...      1\n",
       "..                                                ...    ...\n",
       "95  'll admit , 'm late game getting wonderful gam...      1\n",
       "96  love angry bird , issue ad supported game . re...      0\n",
       "97  love game level never time enjoy far get anoth...      0\n",
       "98  see nothing wrong game busy n't think 's fun ....      0\n",
       "99  n't great get hard really frustrating . would ...      0\n",
       "\n",
       "[100 rows x 2 columns]"
      ]
     },
     "execution_count": 4,
     "metadata": {},
     "output_type": "execute_result"
    }
   ],
   "source": [
    "# Definisemo preprocess_text funkciju\n",
    "\n",
    "def preprocess_text(text):\n",
    "\n",
    "    # Tokenizacija teksta\n",
    "    tokens = word_tokenize(text.lower())\n",
    "    \n",
    "    # Uklanjanje stop-riječi\n",
    "    filtered_tokens = [token for token in tokens if token not in stopwords.words('english')]\n",
    "    \n",
    "    # Lematizacija tokena\n",
    "    lemmatizer = WordNetLemmatizer()\n",
    "\n",
    "    lemmatized_tokens = [lemmatizer.lemmatize(token) for token in filtered_tokens]\n",
    "    \n",
    "    # Spajanje tokena nazad u string\n",
    "    processed_text = ' '.join(lemmatized_tokens)\n",
    "\n",
    "    return processed_text\n",
    "\n",
    "\n",
    "# Pozivanje funkcije preprocess_text na DataFrame\n",
    "\n",
    "df['reviewText'] = df['reviewText'].apply(preprocess_text)\n",
    "\n",
    "df"
   ]
  },
  {
   "cell_type": "markdown",
   "metadata": {},
   "source": [
    "Korak 3 - NLTK analizator sentimenta"
   ]
  },
  {
   "cell_type": "markdown",
   "metadata": {},
   "source": [
    "Inicijalizujemo objekat klase SentimentIntensityAnalyzer iz nltk.sentiment.vader biblioteke. Inicijalizovani objekat analizira sentiment svakog teksta (recenzije) u DataFrame-u df. Za svaki tekst, analizator daje ocjene sentimenta kao rezultat. Rezultati analize se čuvaju rječniku res, gdje su ključevi redni brojevi recenzije (reda u tabeli), a vrijednosti su ocjene sentimenta. Na kraju, rezultati se pretvaraju u DataFrame vaders i prikazuju se ocjene za svaki sentiment.\n",
    "\n",
    "Korišćenje biblioteke tqdm omogućava praćenje napretka analize tako što prikazuje traku napretka, odnosno koliko je redova obrađenjo u DataFrame-u."
   ]
  },
  {
   "cell_type": "code",
   "execution_count": 5,
   "metadata": {},
   "outputs": [
    {
     "data": {
      "application/vnd.jupyter.widget-view+json": {
       "model_id": "e55749ec2ba9463393e9e035451239cd",
       "version_major": 2,
       "version_minor": 0
      },
      "text/plain": [
       "  0%|          | 0/100 [00:00<?, ?it/s]"
      ]
     },
     "metadata": {},
     "output_type": "display_data"
    },
    {
     "data": {
      "text/html": [
       "<div>\n",
       "<style scoped>\n",
       "    .dataframe tbody tr th:only-of-type {\n",
       "        vertical-align: middle;\n",
       "    }\n",
       "\n",
       "    .dataframe tbody tr th {\n",
       "        vertical-align: top;\n",
       "    }\n",
       "\n",
       "    .dataframe thead th {\n",
       "        text-align: right;\n",
       "    }\n",
       "</style>\n",
       "<table border=\"1\" class=\"dataframe\">\n",
       "  <thead>\n",
       "    <tr style=\"text-align: right;\">\n",
       "      <th></th>\n",
       "      <th>neg</th>\n",
       "      <th>neu</th>\n",
       "      <th>pos</th>\n",
       "      <th>compound</th>\n",
       "    </tr>\n",
       "  </thead>\n",
       "  <tbody>\n",
       "    <tr>\n",
       "      <th>0</th>\n",
       "      <td>0.146</td>\n",
       "      <td>0.548</td>\n",
       "      <td>0.306</td>\n",
       "      <td>0.5423</td>\n",
       "    </tr>\n",
       "    <tr>\n",
       "      <th>1</th>\n",
       "      <td>0.000</td>\n",
       "      <td>0.318</td>\n",
       "      <td>0.682</td>\n",
       "      <td>0.9325</td>\n",
       "    </tr>\n",
       "    <tr>\n",
       "      <th>2</th>\n",
       "      <td>0.000</td>\n",
       "      <td>0.417</td>\n",
       "      <td>0.583</td>\n",
       "      <td>0.8687</td>\n",
       "    </tr>\n",
       "    <tr>\n",
       "      <th>3</th>\n",
       "      <td>0.154</td>\n",
       "      <td>0.160</td>\n",
       "      <td>0.686</td>\n",
       "      <td>0.8402</td>\n",
       "    </tr>\n",
       "    <tr>\n",
       "      <th>4</th>\n",
       "      <td>0.000</td>\n",
       "      <td>0.286</td>\n",
       "      <td>0.714</td>\n",
       "      <td>0.9552</td>\n",
       "    </tr>\n",
       "    <tr>\n",
       "      <th>...</th>\n",
       "      <td>...</td>\n",
       "      <td>...</td>\n",
       "      <td>...</td>\n",
       "      <td>...</td>\n",
       "    </tr>\n",
       "    <tr>\n",
       "      <th>95</th>\n",
       "      <td>0.122</td>\n",
       "      <td>0.633</td>\n",
       "      <td>0.244</td>\n",
       "      <td>0.4389</td>\n",
       "    </tr>\n",
       "    <tr>\n",
       "      <th>96</th>\n",
       "      <td>0.088</td>\n",
       "      <td>0.559</td>\n",
       "      <td>0.353</td>\n",
       "      <td>0.8387</td>\n",
       "    </tr>\n",
       "    <tr>\n",
       "      <th>97</th>\n",
       "      <td>0.226</td>\n",
       "      <td>0.539</td>\n",
       "      <td>0.236</td>\n",
       "      <td>0.3182</td>\n",
       "    </tr>\n",
       "    <tr>\n",
       "      <th>98</th>\n",
       "      <td>0.273</td>\n",
       "      <td>0.590</td>\n",
       "      <td>0.137</td>\n",
       "      <td>-0.3711</td>\n",
       "    </tr>\n",
       "    <tr>\n",
       "      <th>99</th>\n",
       "      <td>0.335</td>\n",
       "      <td>0.465</td>\n",
       "      <td>0.199</td>\n",
       "      <td>-0.5628</td>\n",
       "    </tr>\n",
       "  </tbody>\n",
       "</table>\n",
       "<p>100 rows × 4 columns</p>\n",
       "</div>"
      ],
      "text/plain": [
       "      neg    neu    pos  compound\n",
       "0   0.146  0.548  0.306    0.5423\n",
       "1   0.000  0.318  0.682    0.9325\n",
       "2   0.000  0.417  0.583    0.8687\n",
       "3   0.154  0.160  0.686    0.8402\n",
       "4   0.000  0.286  0.714    0.9552\n",
       "..    ...    ...    ...       ...\n",
       "95  0.122  0.633  0.244    0.4389\n",
       "96  0.088  0.559  0.353    0.8387\n",
       "97  0.226  0.539  0.236    0.3182\n",
       "98  0.273  0.590  0.137   -0.3711\n",
       "99  0.335  0.465  0.199   -0.5628\n",
       "\n",
       "[100 rows x 4 columns]"
      ]
     },
     "execution_count": 5,
     "metadata": {},
     "output_type": "execute_result"
    }
   ],
   "source": [
    "from tqdm.notebook import tqdm\n",
    "\n",
    "# Inicijalizacija NLTK sentiment analizatora\n",
    "analyzer = SentimentIntensityAnalyzer()\n",
    "\n",
    "res = {}\n",
    "\n",
    "for i, row in tqdm(df.iterrows(), total = len(df)):\n",
    "    text = row['reviewText']\n",
    "    res[i] = analyzer.polarity_scores(text)\n",
    "\n",
    "vaders = pd.DataFrame(res).T\n",
    "\n",
    "vaders"
   ]
  },
  {
   "cell_type": "markdown",
   "metadata": {},
   "source": [
    "Korak 4 - Analiza sentimenta teksta u DataFrame-u"
   ]
  },
  {
   "cell_type": "markdown",
   "metadata": {},
   "source": [
    "Definišemo funkciju get_sentiment koja analizira sentiment teksta u koloni 'reviewText' svakog reda DataFrame-a. Na osnovu rezultata analize i vrijednosti u koloni 'Score', funkcija određuje da li je sentiment pozitivan, negativan ili neutralan. Rezultati se zatim dodaju u novu kolonu 'Sentiment' DataFrame-a df."
   ]
  },
  {
   "cell_type": "code",
   "execution_count": 6,
   "metadata": {},
   "outputs": [
    {
     "data": {
      "text/html": [
       "<div>\n",
       "<style scoped>\n",
       "    .dataframe tbody tr th:only-of-type {\n",
       "        vertical-align: middle;\n",
       "    }\n",
       "\n",
       "    .dataframe tbody tr th {\n",
       "        vertical-align: top;\n",
       "    }\n",
       "\n",
       "    .dataframe thead th {\n",
       "        text-align: right;\n",
       "    }\n",
       "</style>\n",
       "<table border=\"1\" class=\"dataframe\">\n",
       "  <thead>\n",
       "    <tr style=\"text-align: right;\">\n",
       "      <th></th>\n",
       "      <th>reviewText</th>\n",
       "      <th>Score</th>\n",
       "      <th>Sentiment</th>\n",
       "    </tr>\n",
       "  </thead>\n",
       "  <tbody>\n",
       "    <tr>\n",
       "      <th>0</th>\n",
       "      <td>one best apps acording bunch people agree bomb...</td>\n",
       "      <td>1</td>\n",
       "      <td>positive</td>\n",
       "    </tr>\n",
       "    <tr>\n",
       "      <th>1</th>\n",
       "      <td>pretty good version game free . lot different ...</td>\n",
       "      <td>1</td>\n",
       "      <td>positive</td>\n",
       "    </tr>\n",
       "    <tr>\n",
       "      <th>2</th>\n",
       "      <td>really cool game . bunch level find golden egg...</td>\n",
       "      <td>1</td>\n",
       "      <td>positive</td>\n",
       "    </tr>\n",
       "    <tr>\n",
       "      <th>3</th>\n",
       "      <td>silly game frustrating , lot fun definitely re...</td>\n",
       "      <td>1</td>\n",
       "      <td>positive</td>\n",
       "    </tr>\n",
       "    <tr>\n",
       "      <th>4</th>\n",
       "      <td>terrific game pad . hr fun . grandkids love . ...</td>\n",
       "      <td>1</td>\n",
       "      <td>positive</td>\n",
       "    </tr>\n",
       "    <tr>\n",
       "      <th>...</th>\n",
       "      <td>...</td>\n",
       "      <td>...</td>\n",
       "      <td>...</td>\n",
       "    </tr>\n",
       "    <tr>\n",
       "      <th>95</th>\n",
       "      <td>'ll admit , 'm late game getting wonderful gam...</td>\n",
       "      <td>1</td>\n",
       "      <td>positive</td>\n",
       "    </tr>\n",
       "    <tr>\n",
       "      <th>96</th>\n",
       "      <td>love angry bird , issue ad supported game . re...</td>\n",
       "      <td>0</td>\n",
       "      <td>neutral</td>\n",
       "    </tr>\n",
       "    <tr>\n",
       "      <th>97</th>\n",
       "      <td>love game level never time enjoy far get anoth...</td>\n",
       "      <td>0</td>\n",
       "      <td>neutral</td>\n",
       "    </tr>\n",
       "    <tr>\n",
       "      <th>98</th>\n",
       "      <td>see nothing wrong game busy n't think 's fun ....</td>\n",
       "      <td>0</td>\n",
       "      <td>negative</td>\n",
       "    </tr>\n",
       "    <tr>\n",
       "      <th>99</th>\n",
       "      <td>n't great get hard really frustrating . would ...</td>\n",
       "      <td>0</td>\n",
       "      <td>negative</td>\n",
       "    </tr>\n",
       "  </tbody>\n",
       "</table>\n",
       "<p>100 rows × 3 columns</p>\n",
       "</div>"
      ],
      "text/plain": [
       "                                           reviewText  Score Sentiment\n",
       "0   one best apps acording bunch people agree bomb...      1  positive\n",
       "1   pretty good version game free . lot different ...      1  positive\n",
       "2   really cool game . bunch level find golden egg...      1  positive\n",
       "3   silly game frustrating , lot fun definitely re...      1  positive\n",
       "4   terrific game pad . hr fun . grandkids love . ...      1  positive\n",
       "..                                                ...    ...       ...\n",
       "95  'll admit , 'm late game getting wonderful gam...      1  positive\n",
       "96  love angry bird , issue ad supported game . re...      0   neutral\n",
       "97  love game level never time enjoy far get anoth...      0   neutral\n",
       "98  see nothing wrong game busy n't think 's fun ....      0  negative\n",
       "99  n't great get hard really frustrating . would ...      0  negative\n",
       "\n",
       "[100 rows x 3 columns]"
      ]
     },
     "execution_count": 6,
     "metadata": {},
     "output_type": "execute_result"
    }
   ],
   "source": [
    "# Definisemo get_sentiment funkciju\n",
    "\n",
    "def get_sentiment(row):\n",
    "\n",
    "    scores = analyzer.polarity_scores(row['reviewText'])\n",
    "    \n",
    "    if scores['compound'] >= 0.05 and row['Score'] == 1:\n",
    "        sentiment = 'positive'\n",
    "    elif scores['compound'] <= -0.05 and row['Score'] == 0:\n",
    "        sentiment = 'negative'\n",
    "    else:\n",
    "        sentiment = 'neutral'\n",
    "\n",
    "    return sentiment\n",
    "\n",
    "\n",
    "# Pozivanje get_sentiment funkcije na DataFrame\n",
    "\n",
    "df['Sentiment'] = df.apply(get_sentiment, axis=1)\n",
    "\n",
    "df"
   ]
  },
  {
   "cell_type": "markdown",
   "metadata": {},
   "source": [
    "Korak 5 - Poređenje sentimenata dobijenih analizom sa stvarnim recenzijama"
   ]
  },
  {
   "cell_type": "markdown",
   "metadata": {},
   "source": [
    "Definišemo funkciju analyze_sentiment koja omogućava detaljno upoređivanje stvarnih ocjena sa predviđenim sentimentom za svaku recenziju, pružajući bolji uvid u korelaciju između njih."
   ]
  },
  {
   "cell_type": "code",
   "execution_count": 14,
   "metadata": {},
   "outputs": [
    {
     "name": "stdout",
     "output_type": "stream",
     "text": [
      "Review: one best apps acording bunch people agree bomb egg pig tnt king pig realustic stuff\n",
      "Actual Sentiment: positive\n",
      "Predicted Sentiment: positive\n",
      "Compound Score: 0.5423\n",
      "-----------------------\n",
      "Review: pretty good version game free . lot different level play . kid enjoy lot .\n",
      "Actual Sentiment: positive\n",
      "Predicted Sentiment: positive\n",
      "Compound Score: 0.9325\n",
      "-----------------------\n",
      "Review: really cool game . bunch level find golden egg . super fun .\n",
      "Actual Sentiment: positive\n",
      "Predicted Sentiment: positive\n",
      "Compound Score: 0.8687\n",
      "-----------------------\n",
      "Review: silly game frustrating , lot fun definitely recommend fun time .\n",
      "Actual Sentiment: positive\n",
      "Predicted Sentiment: positive\n",
      "Compound Score: 0.8402\n",
      "-----------------------\n",
      "Review: terrific game pad . hr fun . grandkids love . great entertainment waiting long line\n",
      "Actual Sentiment: positive\n",
      "Predicted Sentiment: positive\n",
      "Compound Score: 0.9552\n",
      "-----------------------\n",
      "Review: entertaining game ! n't smart play . guess 's like ... 's easy fun 's game suppose . warned : game highly addictive .\n",
      "Actual Sentiment: positive\n",
      "Predicted Sentiment: positive\n",
      "Compound Score: 0.7578\n",
      "-----------------------\n",
      "Review: awesome n't need wi ti play trust . really fun addicting . like 100 level even free n't waste money expensive one mean seriously . get app\n",
      "Actual Sentiment: positive\n",
      "Predicted Sentiment: positive\n",
      "Compound Score: 0.9642\n",
      "-----------------------\n",
      "Review: awesome bet one even read review know game good n't need\n",
      "Actual Sentiment: positive\n",
      "Predicted Sentiment: positive\n",
      "Compound Score: 0.7906\n",
      "-----------------------\n",
      "Review: basicly free version ad . 's actually awesome ! ! ! ! 's addicting free time really . 'd reccomend .\n",
      "Actual Sentiment: positive\n",
      "Predicted Sentiment: positive\n",
      "Compound Score: 0.9164\n",
      "-----------------------\n",
      "Review: far best free app available anywhere . helped pas time nothing else would . n't pas one . p hate 20 word minimum !\n",
      "Actual Sentiment: positive\n",
      "Predicted Sentiment: positive\n",
      "Compound Score: 0.8954\n",
      "-----------------------\n",
      "Review: definitely great game . get 6-year-old grand-nephew teach trick . figured , configuration tough beat . n't particularly care spending 45 minute completing level ,\n",
      "Actual Sentiment: positive\n",
      "Predicted Sentiment: positive\n",
      "Compound Score: 0.5032\n",
      "-----------------------\n",
      "Review: . fun time consuming . work great kindle fire really like game btother\n",
      "Actual Sentiment: positive\n",
      "Predicted Sentiment: positive\n",
      "Compound Score: 0.8313\n",
      "-----------------------\n",
      "Review: good like physic game , free game , bird game . like free version ipod . get level add pop corner barely noticeable .\n",
      "Actual Sentiment: positive\n",
      "Predicted Sentiment: positive\n",
      "Compound Score: 0.926\n",
      "-----------------------\n",
      "Review: great ! tried & true game cure boredom ! great try & get 3 star every level !\n",
      "Actual Sentiment: positive\n",
      "Predicted Sentiment: positive\n",
      "Compound Score: 0.8904\n",
      "-----------------------\n",
      "Review: one best apps world along angry bird game . great passing time .\n",
      "Actual Sentiment: positive\n",
      "Predicted Sentiment: positive\n",
      "Compound Score: 0.7184\n",
      "-----------------------\n",
      "Review: super fun though little frustrating time ! ! ! ! ! ! ! ! ! loved got kindle would beg brother dad play . get play time ! ! ! ! ! !\n",
      "Actual Sentiment: positive\n",
      "Predicted Sentiment: positive\n",
      "Compound Score: 0.9348\n",
      "-----------------------\n",
      "Review: ad free version angry bird . old fashioned version angry bird series . huge partially difficult game . played angry bird first time , 'll love\n",
      "Actual Sentiment: positive\n",
      "Predicted Sentiment: negative\n",
      "Compound Score: -0.0516\n",
      "-----------------------\n",
      "Review: best app ever . make way easier babysitt mental kid . app fun .\n",
      "Actual Sentiment: positive\n",
      "Predicted Sentiment: positive\n",
      "Compound Score: 0.8834\n",
      "-----------------------\n",
      "Review: best app ever downloaded people say 1 2 3 4 star n't know much supposed purfor 5 star app\n",
      "Actual Sentiment: positive\n",
      "Predicted Sentiment: positive\n",
      "Compound Score: 0.6369\n",
      "-----------------------\n",
      "Review: bestest game ever omg . im excited : play omg ! ! ! ! ! ! ! omg omg omg love angry bird much da bomb diggety cool omg omg omg omg omg\n",
      "Actual Sentiment: positive\n",
      "Predicted Sentiment: positive\n",
      "Compound Score: 0.7156\n",
      "-----------------------\n",
      "Review: best game ever ! ! ! ! ! fun addicting . many different episode amazing . love !\n",
      "Actual Sentiment: positive\n",
      "Predicted Sentiment: positive\n",
      "Compound Score: 0.9563\n",
      "-----------------------\n",
      "Review: best game ever buy awesome game whole wide world . :\n",
      "Actual Sentiment: positive\n",
      "Predicted Sentiment: positive\n",
      "Compound Score: 0.8519\n",
      "-----------------------\n",
      "Review: best game could think of.i downloaded fav . character original pig.yay love\n",
      "Actual Sentiment: positive\n",
      "Predicted Sentiment: positive\n",
      "Compound Score: 0.9287\n",
      "-----------------------\n",
      "Review: first angry bird . get in2 one 'll lea wanting angry bird season angry bird rio . 're fantastic ! ! ! ! ! ! ! !\n",
      "Actual Sentiment: positive\n",
      "Predicted Sentiment: negative\n",
      "Compound Score: -0.816\n",
      "-----------------------\n",
      "Review: first app installed onkindle fire , full color 7 '' multi-touch display , wi-fiwhich purchased recently amazon . angry bird ( free version ) work smoothly kindle fire.love smooth graphic ! responds perfectly ple\n",
      "Actual Sentiment: positive\n",
      "Predicted Sentiment: positive\n",
      "Compound Score: 0.5848\n",
      "-----------------------\n",
      "Review: full version except ad . one best free apps app store . io , free version like demo . better buy . save 99 cent exact thing paid version . recommend everyone . mu\n",
      "Actual Sentiment: positive\n",
      "Predicted Sentiment: positive\n",
      "Compound Score: 0.9678\n",
      "-----------------------\n",
      "Review: game get . bad comment r stupid . app n't need wifi . like app lot free n't love angry bird ! ! !\n",
      "Actual Sentiment: positive\n",
      "Predicted Sentiment: negative\n",
      "Compound Score: -0.8048\n",
      "-----------------------\n",
      "Review: go game ... love . find much better game\n",
      "Actual Sentiment: positive\n",
      "Predicted Sentiment: positive\n",
      "Compound Score: 0.7964\n",
      "-----------------------\n",
      "Review: one best apps becase good time consuming game ever go becase wifi\n",
      "Actual Sentiment: positive\n",
      "Predicted Sentiment: positive\n",
      "Compound Score: 0.7964\n",
      "-----------------------\n",
      "Review: original anfry bird game work original kindle fire new hd version.new note - updated work new kindle fire hd . course happen bought paid version , n\n",
      "Actual Sentiment: positive\n",
      "Predicted Sentiment: negative\n",
      "Compound Score: -0.0516\n",
      "-----------------------\n",
      "Review: popular game 've hearing long time till friend dared download play . damned got addicted game . love much . turned husband game , . soon , 'll get son ,\n",
      "Actual Sentiment: positive\n",
      "Predicted Sentiment: positive\n",
      "Compound Score: 0.875\n",
      "-----------------------\n",
      "Review: keep busy time . really happy app , never ever problems.p.s.good luck green little booger !\n",
      "Actual Sentiment: positive\n",
      "Predicted Sentiment: positive\n",
      "Compound Score: 0.4224\n",
      "-----------------------\n",
      "Review: physic based game perfect people age spend extra time mobile device . yet still offer challenge . work well kindle fire .\n",
      "Actual Sentiment: positive\n",
      "Predicted Sentiment: positive\n",
      "Compound Score: 0.5719\n",
      "-----------------------\n",
      "Review: seems popular kindle fire hand . lot fun free time plus graphic , nice .\n",
      "Actual Sentiment: positive\n",
      "Predicted Sentiment: positive\n",
      "Compound Score: 0.9186\n",
      "-----------------------\n",
      "Review: much fun ! daughter vthis app iphone never realized much fun downloaded kindle fire . highly recommend getting app ... work great kindle fire !\n",
      "Actual Sentiment: positive\n",
      "Predicted Sentiment: positive\n",
      "Compound Score: 0.8828\n",
      "-----------------------\n",
      "Review: entertaining challenging game several level seek improvement . ad overrun , free , excellent program .\n",
      "Actual Sentiment: positive\n",
      "Predicted Sentiment: positive\n",
      "Compound Score: 0.926\n",
      "-----------------------\n",
      "Review: first time play angry bird don'tthink could better first impression ! , purchase every angry bird gamei get hand ! see 'fuss ' ! ! !\n",
      "Actual Sentiment: positive\n",
      "Predicted Sentiment: negative\n",
      "Compound Score: -0.5682\n",
      "-----------------------\n",
      "Review: one first apps got kindle fire love playing . great passing time . ad n't bother small little box top right screen hardly notice . worth paying\n",
      "Actual Sentiment: positive\n",
      "Predicted Sentiment: positive\n",
      "Compound Score: 0.8974\n",
      "-----------------------\n",
      "Review: 1st app ever downloaded kindle fire love ! need wi-fi play ! think 's great app time-waster .\n",
      "Actual Sentiment: positive\n",
      "Predicted Sentiment: positive\n",
      "Compound Score: 0.8715\n",
      "-----------------------\n",
      "Review: best game time come phone . would put snake old nokia brick .\n",
      "Actual Sentiment: positive\n",
      "Predicted Sentiment: positive\n",
      "Compound Score: 0.6369\n",
      "-----------------------\n",
      "Review: addictive . play hour . first game installed fire , played .\n",
      "Actual Sentiment: positive\n",
      "Predicted Sentiment: positive\n",
      "Compound Score: 0.34\n",
      "-----------------------\n",
      "Review: fun challenge , always try get three star , nice graphic gameplay , always good way kill time .\n",
      "Actual Sentiment: positive\n",
      "Predicted Sentiment: positive\n",
      "Compound Score: 0.5574\n",
      "-----------------------\n",
      "Review: fun addictingso good u pay money itonly winner play game get ! ! ! ! ! ! ! ! ! ! ! ! ! ! ! ! ! ! ! ! ! ! !\n",
      "Actual Sentiment: positive\n",
      "Predicted Sentiment: positive\n",
      "Compound Score: 0.9212\n",
      "-----------------------\n",
      "Review: fun game people say freeze n't work must many game 're . device\n",
      "Actual Sentiment: positive\n",
      "Predicted Sentiment: positive\n",
      "Compound Score: 0.5423\n",
      "-----------------------\n",
      "Review: fun fun fun fun , keep busy . stop playing . challenging , game make angry , sometimes , win .\n",
      "Actual Sentiment: positive\n",
      "Predicted Sentiment: positive\n",
      "Compound Score: 0.9313\n",
      "-----------------------\n",
      "Review: high quality game . fast , crystal clear . amazing game popular , would free ! level accomplish become angry bird pro.~ jessie\n",
      "Actual Sentiment: positive\n",
      "Predicted Sentiment: positive\n",
      "Compound Score: 0.906\n",
      "-----------------------\n",
      "Review: awesome & iexcl ; ! ! ! ! ! ! ! ' ! ! ! ! ! ! ! ! ! ! ! ! ! ! ! ! ! ! ! x . ! & iexcl ; ! ! cgdixjcv dnjdxjx gcfjxcb fvcv hxgrdh\n",
      "Actual Sentiment: positive\n",
      "Predicted Sentiment: positive\n",
      "Compound Score: 0.7405\n",
      "-----------------------\n",
      "Review: watch ! addicting game , fun age ! good way kill time , waste time .\n",
      "Actual Sentiment: positive\n",
      "Predicted Sentiment: negative\n",
      "Compound Score: -0.4374\n",
      "-----------------------\n",
      "Review: love game . fun age . cant wait till someone get tired get tablet play .\n",
      "Actual Sentiment: positive\n",
      "Predicted Sentiment: positive\n",
      "Compound Score: 0.7906\n",
      "-----------------------\n",
      "Review: downloaded free version tween 's new kindle fire everyone ( age 9 74 ) blast playing game many level challenge . graphic sound great .\n",
      "Actual Sentiment: positive\n",
      "Predicted Sentiment: positive\n",
      "Compound Score: 0.7964\n",
      "-----------------------\n",
      "Review: well 'm would call gamer game found addicting . make nut enough try fail .\n",
      "Actual Sentiment: positive\n",
      "Predicted Sentiment: negative\n",
      "Compound Score: -0.34\n",
      "-----------------------\n",
      "Review: say probably n't already know , unless 've living rock last year . work like champ kindle fire .\n",
      "Actual Sentiment: positive\n",
      "Predicted Sentiment: positive\n",
      "Compound Score: 0.4939\n",
      "-----------------------\n",
      "Review: say ? ya ca n't improve perfection . great traveling time need relax .\n",
      "Actual Sentiment: positive\n",
      "Predicted Sentiment: negative\n",
      "Compound Score: -0.7002\n",
      "-----------------------\n",
      "Review: angry bird space folding kindle fire ? jrdhdhdh fhd dud dvd dud db 's dhdjsbd fhdbfjs sjdddhdx dud dud\n",
      "Actual Sentiment: positive\n",
      "Predicted Sentiment: negative\n",
      "Compound Score: -0.8934\n",
      "-----------------------\n",
      "Review: whenever probs operating game , keep get least 2 star ! help pas time , help keep mind active !\n",
      "Actual Sentiment: positive\n",
      "Predicted Sentiment: positive\n",
      "Compound Score: 0.8264\n",
      "-----------------------\n",
      "Review: first found angry bird n't think much played friend phone hooked . got ipod killed battery . husband bought kindle fire valentine day playing angry bird\n",
      "Actual Sentiment: positive\n",
      "Predicted Sentiment: negative\n",
      "Compound Score: -0.8894\n",
      "-----------------------\n",
      "Review: first got angry bird ; loved could n't stop playing ! played whenever could . hard level take beat ; sometimes look walk-through pas . plenty level . completed level ; sto\n",
      "Actual Sentiment: positive\n",
      "Predicted Sentiment: negative\n",
      "Compound Score: -0.21\n",
      "-----------------------\n",
      "Review: first played game hooked . would spend hour defeat pig . kid even hooked game .\n",
      "Actual Sentiment: positive\n",
      "Predicted Sentiment: negative\n",
      "Compound Score: -0.1531\n",
      "-----------------------\n",
      "Review: wait see say doctor , dmv , wife get done shopping\n",
      "Actual Sentiment: positive\n",
      "Predicted Sentiment: neutral\n",
      "Compound Score: 0.0\n",
      "-----------------------\n",
      "Review: n't enjoy classic game angry bird , tv show use game . friend 's teach took opossum away started playing angry bird . lol\n",
      "Actual Sentiment: positive\n",
      "Predicted Sentiment: negative\n",
      "Compound Score: -0.3459\n",
      "-----------------------\n",
      "Review: n't like angrybirds ? paid version better n't annoying add . blocking shot !\n",
      "Actual Sentiment: positive\n",
      "Predicted Sentiment: positive\n",
      "Compound Score: 0.673\n",
      "-----------------------\n",
      "Review: n't like angry bird ? love angry bird ! n't know anyone n't ! love angry bird ! ! ! ! ! ! ! ! ! ! ! ! ! ! ! ! ! ! ! ! ! ! ! ! ! ! ! ! ! ! ! ! ! ! ! ! ! !\n",
      "Actual Sentiment: positive\n",
      "Predicted Sentiment: positive\n",
      "Compound Score: 0.9482\n",
      "-----------------------\n",
      "Review: n't love app . everyone family enjoys playing gamealways fun playing angrybirds hope theyp come upwith newbirds\n",
      "Actual Sentiment: positive\n",
      "Predicted Sentiment: positive\n",
      "Compound Score: 0.8286\n",
      "-----------------------\n",
      "Review: anyone hate ? wi-fi required ? need wi-fi download , complaining ? ad ? 're tiny ! bother ! ca n't download ? n't make game stupid.this best game time ! ! ! .... least , time\n",
      "Actual Sentiment: positive\n",
      "Predicted Sentiment: negative\n",
      "Compound Score: -0.703\n",
      "-----------------------\n",
      "Review: people give low score add disruptive great free game get listen low score\n",
      "Actual Sentiment: positive\n",
      "Predicted Sentiment: positive\n",
      "Compound Score: 0.4404\n",
      "-----------------------\n",
      "Review: wish never downloaded game ! ! ! ! playing time ! ! ! ! sometimes get sooo 'angry ' one puzzle , continually go back .\n",
      "Actual Sentiment: positive\n",
      "Predicted Sentiment: negative\n",
      "Compound Score: -0.5204\n",
      "-----------------------\n",
      "Review: work great kindle fire.it think second free app loaded work great still day._never one problem .\n",
      "Actual Sentiment: positive\n",
      "Predicted Sentiment: positive\n",
      "Compound Score: 0.8689\n",
      "-----------------------\n",
      "Review: wow angry bird soooooooo fun expecialy kindle fire love love best game universe ! ! ! ! ! ! ! ! ! ! ! ! ! ! : - ) ) ) ) ) ) ) love g.sonnier\n",
      "Actual Sentiment: positive\n",
      "Predicted Sentiment: positive\n",
      "Compound Score: 0.9697\n",
      "-----------------------\n",
      "Review: wow , great . u people complain ? trust get . trust , 'm doctor ( far u know )\n",
      "Actual Sentiment: positive\n",
      "Predicted Sentiment: positive\n",
      "Compound Score: 0.9186\n",
      "-----------------------\n",
      "Review: yes ad annoying free ! love launch bird pig . make feel giddy inside ha !\n",
      "Actual Sentiment: positive\n",
      "Predicted Sentiment: positive\n",
      "Compound Score: 0.8715\n",
      "-----------------------\n",
      "Review: yes . looking game fire . . 's fun game play .\n",
      "Actual Sentiment: positive\n",
      "Predicted Sentiment: positive\n",
      "Compound Score: 0.7184\n",
      "-----------------------\n",
      "Review: yipee angry bird ! n't cell phone 've coveting game ever since niece showed play . thank offering new kindle fire hd , loving . 5 star .\n",
      "Actual Sentiment: positive\n",
      "Predicted Sentiment: positive\n",
      "Compound Score: 0.5255\n",
      "-----------------------\n",
      "Review: play app day night . first day got completed half level ! stop reading reveiws buy !\n",
      "Actual Sentiment: positive\n",
      "Predicted Sentiment: positive\n",
      "Compound Score: 0.1984\n",
      "-----------------------\n",
      "Review: get kill pig start cant stop im usually always buy else\n",
      "Actual Sentiment: positive\n",
      "Predicted Sentiment: negative\n",
      "Compound Score: -0.5875\n",
      "-----------------------\n",
      "Review: get fun ! person put 1star crazy . 'd really stupid n't get it.your wasting time reading , get app game !\n",
      "Actual Sentiment: positive\n",
      "Predicted Sentiment: negative\n",
      "Compound Score: -0.2776\n",
      "-----------------------\n",
      "Review: know full version say , quote , ad-free ? well , n't full version . free version . consider app ad deal - n't restrict certain amount level . 's , call ,\n",
      "Actual Sentiment: positive\n",
      "Predicted Sentiment: negative\n",
      "Compound Score: -0.0598\n",
      "-----------------------\n",
      "Review: hooked addicted game.let say funnnn game able stop playing .. fun ! ! ! ! ( :\n",
      "Actual Sentiment: positive\n",
      "Predicted Sentiment: positive\n",
      "Compound Score: 0.6209\n",
      "-----------------------\n",
      "Review: love game get . u gave game le five star rating would lunitic\n",
      "Actual Sentiment: positive\n",
      "Predicted Sentiment: positive\n",
      "Compound Score: 0.6369\n",
      "-----------------------\n",
      "Review: call three next mario ? ? ? 'professional reviewer ' high ? ? ? ask fling bird bone . zero replay value .\n",
      "Actual Sentiment: negative\n",
      "Predicted Sentiment: positive\n",
      "Compound Score: 0.5204\n",
      "-----------------------\n",
      "Review: angry people book ! moron would waste time playing azimuth slingshot call cultural phenomenon ... word ( ? ? ? ) ... oh yes , moron ! ! ! 5 minute played thing still scar !\n",
      "Actual Sentiment: negative\n",
      "Predicted Sentiment: negative\n",
      "Compound Score: -0.8522\n",
      "-----------------------\n",
      "Review: argry bird free play game kindlefirebecause free . play right .\n",
      "Actual Sentiment: negative\n",
      "Predicted Sentiment: positive\n",
      "Compound Score: 0.886\n",
      "-----------------------\n",
      "Review: cant stand game . love concept played many type . give developer credit creating ton level , keep going hour . sound irritating . constant chirp annoying heck , play soun\n",
      "Actual Sentiment: negative\n",
      "Predicted Sentiment: negative\n",
      "Compound Score: -0.12\n",
      "-----------------------\n",
      "Review: n't really know point game . 's almost impossible knock stupid bird . waste time one ?\n",
      "Actual Sentiment: negative\n",
      "Predicted Sentiment: negative\n",
      "Compound Score: -0.7128\n",
      "-----------------------\n",
      "Review: eden mine craft make apps buy able . eden mine fun fun fun . together stand strong apps come come . let fight eden mine craft pocket addition . let go strike ! ! ! madden.no freedem apps ! ! ! ! ! ! ! ! ! ! ! !\n",
      "Actual Sentiment: negative\n",
      "Predicted Sentiment: positive\n",
      "Compound Score: 0.9056\n",
      "-----------------------\n",
      "Review: first game ok great . second way rated sling shot use bird kill pig ... rated\n",
      "Actual Sentiment: negative\n",
      "Predicted Sentiment: positive\n",
      "Compound Score: 0.1531\n",
      "-----------------------\n",
      "Review: game rather ... retarded lack better word . would n't n't recommended anyone dont know anyone would bother .\n",
      "Actual Sentiment: negative\n",
      "Predicted Sentiment: negative\n",
      "Compound Score: -0.6202\n",
      "-----------------------\n",
      "Review: game self good switch ad free original angry bird . n't like ad interfering game .\n",
      "Actual Sentiment: negative\n",
      "Predicted Sentiment: positive\n",
      "Compound Score: 0.4749\n",
      "-----------------------\n",
      "Review: got thr upgrade soooooooooooooooooo . fun lille fish going tell much get free fun\n",
      "Actual Sentiment: positive\n",
      "Predicted Sentiment: positive\n",
      "Compound Score: 0.872\n",
      "-----------------------\n",
      "Review: hey 's angry bird , 's love ! easy use new kindle hd could spend hour angry dang bird stomping pig , first shot !\n",
      "Actual Sentiment: positive\n",
      "Predicted Sentiment: positive\n",
      "Compound Score: 0.2695\n",
      "-----------------------\n",
      "Review: ca n't believe hard try hit target still ca n't make , 's good laugh oneself game good\n",
      "Actual Sentiment: positive\n",
      "Predicted Sentiment: neutral\n",
      "Compound Score: 0.0217\n",
      "-----------------------\n",
      "Review: n't like .i think kid . really many game\n",
      "Actual Sentiment: negative\n",
      "Predicted Sentiment: negative\n",
      "Compound Score: -0.2755\n",
      "-----------------------\n",
      "Review: got end pre-installed version . confused , checked online see app missing entire level . one post suggested downloading newer version . crash moment start .\n",
      "Actual Sentiment: negative\n",
      "Predicted Sentiment: negative\n",
      "Compound Score: -0.7351\n",
      "-----------------------\n",
      "Review: hate say everything l got rid shut kindle stupid ! ! ! ! ! ! ! ! ! ! ? ? ? ? $ $ $ $ $ * & # 9733 ; & # 9733 ; * & # 9733 ;\n",
      "Actual Sentiment: negative\n",
      "Predicted Sentiment: negative\n",
      "Compound Score: -0.8814\n",
      "-----------------------\n",
      "Review: hat never liked sucked boring like rio one tho one good sucked\n",
      "Actual Sentiment: negative\n",
      "Predicted Sentiment: positive\n",
      "Compound Score: 0.8398\n",
      "-----------------------\n",
      "Review: hear app everywhere . everyone smartphone tablet see people playing time . terrible app . played 3 level could n't stand anymore . hate apps like doodle jump many oth\n",
      "Actual Sentiment: negative\n",
      "Predicted Sentiment: positive\n",
      "Compound Score: 0.6806\n",
      "-----------------------\n",
      "Review: 'll admit , 'm late game getting wonderful game , boy hooked ! mindless way spend hour time . go back work ?\n",
      "Actual Sentiment: positive\n",
      "Predicted Sentiment: positive\n",
      "Compound Score: 0.4389\n",
      "-----------------------\n",
      "Review: love angry bird , issue ad supported game . real issue & # 34 ; ad supported game & # 34 ; constantly launch full screen ad last substantially longer level played . game ad fine , w\n",
      "Actual Sentiment: negative\n",
      "Predicted Sentiment: positive\n",
      "Compound Score: 0.8387\n",
      "-----------------------\n",
      "Review: love game level never time enjoy far get another update make delete version progress it.now rarely play always play level over.why\n",
      "Actual Sentiment: negative\n",
      "Predicted Sentiment: positive\n",
      "Compound Score: 0.3182\n",
      "-----------------------\n",
      "Review: see nothing wrong game busy n't think 's fun . shoot pig bird . 's alp .\n",
      "Actual Sentiment: negative\n",
      "Predicted Sentiment: negative\n",
      "Compound Score: -0.3711\n",
      "-----------------------\n",
      "Review: n't great get hard really frustrating . would n't get . 'm sad spent money .\n",
      "Actual Sentiment: negative\n",
      "Predicted Sentiment: negative\n",
      "Compound Score: -0.5628\n",
      "-----------------------\n"
     ]
    }
   ],
   "source": [
    "def analyze_sentiment(row):\n",
    "    scores = analyzer.polarity_scores(row['reviewText'])\n",
    "    \n",
    "    if scores['compound'] >= 0.05:\n",
    "        predicted_sentiment = 'positive'\n",
    "    elif scores['compound'] <= -0.05:\n",
    "        predicted_sentiment = 'negative'\n",
    "    else:\n",
    "        predicted_sentiment = 'neutral'\n",
    "    \n",
    "    actual_sentiment = 'positive' if row['Score'] == 1 else 'negative'\n",
    "    \n",
    "    return {\n",
    "        'Review': row['reviewText'],\n",
    "        'Actual_Sentiment': actual_sentiment,\n",
    "        'Predicted_Sentiment': predicted_sentiment,\n",
    "        'Compound_Score': scores['compound']\n",
    "    }\n",
    "\n",
    "df['Sentiment_Analysis'] = df.apply(analyze_sentiment, axis=1)\n",
    "\n",
    "# Prikazati rezultate\n",
    "for index, row in df.iterrows():\n",
    "    print(f\"Review: {row['Sentiment_Analysis']['Review']}\")\n",
    "    print(f\"Actual Sentiment: {row['Sentiment_Analysis']['Actual_Sentiment']}\")\n",
    "    print(f\"Predicted Sentiment: {row['Sentiment_Analysis']['Predicted_Sentiment']}\")\n",
    "    print(f\"Compound Score: {row['Sentiment_Analysis']['Compound_Score']}\")\n",
    "    print(\"-----------------------\")\n"
   ]
  },
  {
   "cell_type": "markdown",
   "metadata": {},
   "source": [
    "Korak 6 - Kasifikacija emocija\n",
    "\n"
   ]
  },
  {
   "cell_type": "markdown",
   "metadata": {},
   "source": [
    "Učitavamo potrebne biblioteke, uključujući pipeline za analizu emocija. Zatim, preuzimamo prethodno obučeni model za analizu emocija. Koristimo taj model da izračunamo emocije za svaki red teksta u DataFrame-u. Rezultati se dodaju u DataFrame kao nove kolone koje sadrže oznake i ocjene emocija. Konačni rezultat je DataFrame koji sadrži informacije o emocijama koje su najviše zastupljene u svakoj recenziji."
   ]
  },
  {
   "cell_type": "code",
   "execution_count": 8,
   "metadata": {},
   "outputs": [
    {
     "data": {
      "text/html": [
       "<div>\n",
       "<style scoped>\n",
       "    .dataframe tbody tr th:only-of-type {\n",
       "        vertical-align: middle;\n",
       "    }\n",
       "\n",
       "    .dataframe tbody tr th {\n",
       "        vertical-align: top;\n",
       "    }\n",
       "\n",
       "    .dataframe thead th {\n",
       "        text-align: right;\n",
       "    }\n",
       "</style>\n",
       "<table border=\"1\" class=\"dataframe\">\n",
       "  <thead>\n",
       "    <tr style=\"text-align: right;\">\n",
       "      <th></th>\n",
       "      <th>reviewText</th>\n",
       "      <th>Score</th>\n",
       "      <th>Sentiment</th>\n",
       "      <th>Emotion Label</th>\n",
       "      <th>Emotion Score</th>\n",
       "    </tr>\n",
       "  </thead>\n",
       "  <tbody>\n",
       "    <tr>\n",
       "      <th>0</th>\n",
       "      <td>one best apps acording bunch people agree bomb...</td>\n",
       "      <td>1</td>\n",
       "      <td>positive</td>\n",
       "      <td>neutral</td>\n",
       "      <td>0.475743</td>\n",
       "    </tr>\n",
       "    <tr>\n",
       "      <th>1</th>\n",
       "      <td>pretty good version game free . lot different ...</td>\n",
       "      <td>1</td>\n",
       "      <td>positive</td>\n",
       "      <td>joy</td>\n",
       "      <td>0.955907</td>\n",
       "    </tr>\n",
       "    <tr>\n",
       "      <th>2</th>\n",
       "      <td>really cool game . bunch level find golden egg...</td>\n",
       "      <td>1</td>\n",
       "      <td>positive</td>\n",
       "      <td>joy</td>\n",
       "      <td>0.955430</td>\n",
       "    </tr>\n",
       "    <tr>\n",
       "      <th>3</th>\n",
       "      <td>silly game frustrating , lot fun definitely re...</td>\n",
       "      <td>1</td>\n",
       "      <td>positive</td>\n",
       "      <td>sadness</td>\n",
       "      <td>0.870134</td>\n",
       "    </tr>\n",
       "    <tr>\n",
       "      <th>4</th>\n",
       "      <td>terrific game pad . hr fun . grandkids love . ...</td>\n",
       "      <td>1</td>\n",
       "      <td>positive</td>\n",
       "      <td>joy</td>\n",
       "      <td>0.963085</td>\n",
       "    </tr>\n",
       "    <tr>\n",
       "      <th>...</th>\n",
       "      <td>...</td>\n",
       "      <td>...</td>\n",
       "      <td>...</td>\n",
       "      <td>...</td>\n",
       "      <td>...</td>\n",
       "    </tr>\n",
       "    <tr>\n",
       "      <th>95</th>\n",
       "      <td>'ll admit , 'm late game getting wonderful gam...</td>\n",
       "      <td>1</td>\n",
       "      <td>positive</td>\n",
       "      <td>sadness</td>\n",
       "      <td>0.489019</td>\n",
       "    </tr>\n",
       "    <tr>\n",
       "      <th>96</th>\n",
       "      <td>love angry bird , issue ad supported game . re...</td>\n",
       "      <td>0</td>\n",
       "      <td>neutral</td>\n",
       "      <td>anger</td>\n",
       "      <td>0.950331</td>\n",
       "    </tr>\n",
       "    <tr>\n",
       "      <th>97</th>\n",
       "      <td>love game level never time enjoy far get anoth...</td>\n",
       "      <td>0</td>\n",
       "      <td>neutral</td>\n",
       "      <td>neutral</td>\n",
       "      <td>0.341931</td>\n",
       "    </tr>\n",
       "    <tr>\n",
       "      <th>98</th>\n",
       "      <td>see nothing wrong game busy n't think 's fun ....</td>\n",
       "      <td>0</td>\n",
       "      <td>negative</td>\n",
       "      <td>sadness</td>\n",
       "      <td>0.383056</td>\n",
       "    </tr>\n",
       "    <tr>\n",
       "      <th>99</th>\n",
       "      <td>n't great get hard really frustrating . would ...</td>\n",
       "      <td>0</td>\n",
       "      <td>negative</td>\n",
       "      <td>sadness</td>\n",
       "      <td>0.951647</td>\n",
       "    </tr>\n",
       "  </tbody>\n",
       "</table>\n",
       "<p>100 rows × 5 columns</p>\n",
       "</div>"
      ],
      "text/plain": [
       "                                           reviewText  Score Sentiment  \\\n",
       "0   one best apps acording bunch people agree bomb...      1  positive   \n",
       "1   pretty good version game free . lot different ...      1  positive   \n",
       "2   really cool game . bunch level find golden egg...      1  positive   \n",
       "3   silly game frustrating , lot fun definitely re...      1  positive   \n",
       "4   terrific game pad . hr fun . grandkids love . ...      1  positive   \n",
       "..                                                ...    ...       ...   \n",
       "95  'll admit , 'm late game getting wonderful gam...      1  positive   \n",
       "96  love angry bird , issue ad supported game . re...      0   neutral   \n",
       "97  love game level never time enjoy far get anoth...      0   neutral   \n",
       "98  see nothing wrong game busy n't think 's fun ....      0  negative   \n",
       "99  n't great get hard really frustrating . would ...      0  negative   \n",
       "\n",
       "   Emotion Label  Emotion Score  \n",
       "0        neutral       0.475743  \n",
       "1            joy       0.955907  \n",
       "2            joy       0.955430  \n",
       "3        sadness       0.870134  \n",
       "4            joy       0.963085  \n",
       "..           ...            ...  \n",
       "95       sadness       0.489019  \n",
       "96         anger       0.950331  \n",
       "97       neutral       0.341931  \n",
       "98       sadness       0.383056  \n",
       "99       sadness       0.951647  \n",
       "\n",
       "[100 rows x 5 columns]"
      ]
     },
     "execution_count": 8,
     "metadata": {},
     "output_type": "execute_result"
    }
   ],
   "source": [
    "from transformers import pipeline\n",
    "import warnings\n",
    "\n",
    "# Ne dozvoli FutureWarning poruke\n",
    "warnings.simplefilter(action='ignore', category=FutureWarning)\n",
    "    \n",
    "# Preuzimanje modela za klasifikaciju emocija\n",
    "model = pipeline(\"text-classification\", model=\"j-hartmann/emotion-english-distilroberta-base\")\n",
    "\n",
    "# Izračunavanje emocija za svaki red DataFrame-a\n",
    "all_texts = df[\"reviewText\"].values.tolist()\n",
    "all_emotions = model(all_texts)\n",
    "\n",
    "# Kreiranje novih kolona DataFrame-a\n",
    "df[\"Emotion Label\"] = [d[\"label\"] for d in all_emotions]\n",
    "df[\"Emotion Score\"] = [d[\"score\"] for d in all_emotions]\n",
    "\n",
    "df"
   ]
  },
  {
   "cell_type": "markdown",
   "metadata": {},
   "source": [
    "Korak 7 - Grafički prikaz emocija iz teksta"
   ]
  },
  {
   "cell_type": "markdown",
   "metadata": {},
   "source": [
    "Koristimo plotly.express biblioteku kako bi grafički prikazali emocije pronađene u recenzijama na Amazonu. Koristimo histogram() funkciju za kreiranje dijagrama DataFrame-a df. Kolona 'Emotion Label' DataFrame-a df predstavlja x-osu dijagrama, a y-osa broj recenzija koje su povezane sa određenom emocijom. "
   ]
  },
  {
   "cell_type": "code",
   "execution_count": 9,
   "metadata": {},
   "outputs": [
    {
     "data": {
      "application/vnd.plotly.v1+json": {
       "config": {
        "plotlyServerURL": "https://plot.ly"
       },
       "data": [
        {
         "alignmentgroup": "True",
         "bingroup": "x",
         "hovertemplate": "Emotion Label=%{x}<br>count=%{y}<extra></extra>",
         "legendgroup": "neutral",
         "marker": {
          "color": "#636efa",
          "pattern": {
           "shape": ""
          }
         },
         "name": "neutral",
         "offsetgroup": "neutral",
         "orientation": "v",
         "showlegend": true,
         "type": "histogram",
         "x": [
          "neutral",
          "neutral",
          "neutral",
          "neutral",
          "neutral",
          "neutral",
          "neutral",
          "neutral",
          "neutral",
          "neutral",
          "neutral"
         ],
         "xaxis": "x",
         "yaxis": "y"
        },
        {
         "alignmentgroup": "True",
         "bingroup": "x",
         "hovertemplate": "Emotion Label=%{x}<br>count=%{y}<extra></extra>",
         "legendgroup": "joy",
         "marker": {
          "color": "#EF553B",
          "pattern": {
           "shape": ""
          }
         },
         "name": "joy",
         "offsetgroup": "joy",
         "orientation": "v",
         "showlegend": true,
         "type": "histogram",
         "x": [
          "joy",
          "joy",
          "joy",
          "joy",
          "joy",
          "joy",
          "joy",
          "joy",
          "joy",
          "joy",
          "joy",
          "joy",
          "joy",
          "joy",
          "joy",
          "joy",
          "joy",
          "joy",
          "joy",
          "joy",
          "joy",
          "joy",
          "joy",
          "joy",
          "joy",
          "joy",
          "joy",
          "joy",
          "joy",
          "joy",
          "joy",
          "joy",
          "joy",
          "joy",
          "joy",
          "joy",
          "joy",
          "joy",
          "joy"
         ],
         "xaxis": "x",
         "yaxis": "y"
        },
        {
         "alignmentgroup": "True",
         "bingroup": "x",
         "hovertemplate": "Emotion Label=%{x}<br>count=%{y}<extra></extra>",
         "legendgroup": "sadness",
         "marker": {
          "color": "#00cc96",
          "pattern": {
           "shape": ""
          }
         },
         "name": "sadness",
         "offsetgroup": "sadness",
         "orientation": "v",
         "showlegend": true,
         "type": "histogram",
         "x": [
          "sadness",
          "sadness",
          "sadness",
          "sadness",
          "sadness",
          "sadness",
          "sadness",
          "sadness",
          "sadness",
          "sadness",
          "sadness",
          "sadness",
          "sadness",
          "sadness",
          "sadness"
         ],
         "xaxis": "x",
         "yaxis": "y"
        },
        {
         "alignmentgroup": "True",
         "bingroup": "x",
         "hovertemplate": "Emotion Label=%{x}<br>count=%{y}<extra></extra>",
         "legendgroup": "anger",
         "marker": {
          "color": "#ab63fa",
          "pattern": {
           "shape": ""
          }
         },
         "name": "anger",
         "offsetgroup": "anger",
         "orientation": "v",
         "showlegend": true,
         "type": "histogram",
         "x": [
          "anger",
          "anger",
          "anger",
          "anger",
          "anger",
          "anger",
          "anger",
          "anger",
          "anger",
          "anger",
          "anger",
          "anger",
          "anger",
          "anger",
          "anger",
          "anger",
          "anger",
          "anger",
          "anger",
          "anger",
          "anger",
          "anger",
          "anger",
          "anger",
          "anger",
          "anger"
         ],
         "xaxis": "x",
         "yaxis": "y"
        },
        {
         "alignmentgroup": "True",
         "bingroup": "x",
         "hovertemplate": "Emotion Label=%{x}<br>count=%{y}<extra></extra>",
         "legendgroup": "surprise",
         "marker": {
          "color": "#FFA15A",
          "pattern": {
           "shape": ""
          }
         },
         "name": "surprise",
         "offsetgroup": "surprise",
         "orientation": "v",
         "showlegend": true,
         "type": "histogram",
         "x": [
          "surprise",
          "surprise",
          "surprise",
          "surprise",
          "surprise",
          "surprise",
          "surprise",
          "surprise",
          "surprise"
         ],
         "xaxis": "x",
         "yaxis": "y"
        }
       ],
       "layout": {
        "barmode": "relative",
        "legend": {
         "title": {
          "text": "Emotion Label"
         },
         "tracegroupgap": 0
        },
        "showlegend": false,
        "template": {
         "data": {
          "bar": [
           {
            "error_x": {
             "color": "#f2f5fa"
            },
            "error_y": {
             "color": "#f2f5fa"
            },
            "marker": {
             "line": {
              "color": "rgb(17,17,17)",
              "width": 0.5
             },
             "pattern": {
              "fillmode": "overlay",
              "size": 10,
              "solidity": 0.2
             }
            },
            "type": "bar"
           }
          ],
          "barpolar": [
           {
            "marker": {
             "line": {
              "color": "rgb(17,17,17)",
              "width": 0.5
             },
             "pattern": {
              "fillmode": "overlay",
              "size": 10,
              "solidity": 0.2
             }
            },
            "type": "barpolar"
           }
          ],
          "carpet": [
           {
            "aaxis": {
             "endlinecolor": "#A2B1C6",
             "gridcolor": "#506784",
             "linecolor": "#506784",
             "minorgridcolor": "#506784",
             "startlinecolor": "#A2B1C6"
            },
            "baxis": {
             "endlinecolor": "#A2B1C6",
             "gridcolor": "#506784",
             "linecolor": "#506784",
             "minorgridcolor": "#506784",
             "startlinecolor": "#A2B1C6"
            },
            "type": "carpet"
           }
          ],
          "choropleth": [
           {
            "colorbar": {
             "outlinewidth": 0,
             "ticks": ""
            },
            "type": "choropleth"
           }
          ],
          "contour": [
           {
            "colorbar": {
             "outlinewidth": 0,
             "ticks": ""
            },
            "colorscale": [
             [
              0,
              "#0d0887"
             ],
             [
              0.1111111111111111,
              "#46039f"
             ],
             [
              0.2222222222222222,
              "#7201a8"
             ],
             [
              0.3333333333333333,
              "#9c179e"
             ],
             [
              0.4444444444444444,
              "#bd3786"
             ],
             [
              0.5555555555555556,
              "#d8576b"
             ],
             [
              0.6666666666666666,
              "#ed7953"
             ],
             [
              0.7777777777777778,
              "#fb9f3a"
             ],
             [
              0.8888888888888888,
              "#fdca26"
             ],
             [
              1,
              "#f0f921"
             ]
            ],
            "type": "contour"
           }
          ],
          "contourcarpet": [
           {
            "colorbar": {
             "outlinewidth": 0,
             "ticks": ""
            },
            "type": "contourcarpet"
           }
          ],
          "heatmap": [
           {
            "colorbar": {
             "outlinewidth": 0,
             "ticks": ""
            },
            "colorscale": [
             [
              0,
              "#0d0887"
             ],
             [
              0.1111111111111111,
              "#46039f"
             ],
             [
              0.2222222222222222,
              "#7201a8"
             ],
             [
              0.3333333333333333,
              "#9c179e"
             ],
             [
              0.4444444444444444,
              "#bd3786"
             ],
             [
              0.5555555555555556,
              "#d8576b"
             ],
             [
              0.6666666666666666,
              "#ed7953"
             ],
             [
              0.7777777777777778,
              "#fb9f3a"
             ],
             [
              0.8888888888888888,
              "#fdca26"
             ],
             [
              1,
              "#f0f921"
             ]
            ],
            "type": "heatmap"
           }
          ],
          "heatmapgl": [
           {
            "colorbar": {
             "outlinewidth": 0,
             "ticks": ""
            },
            "colorscale": [
             [
              0,
              "#0d0887"
             ],
             [
              0.1111111111111111,
              "#46039f"
             ],
             [
              0.2222222222222222,
              "#7201a8"
             ],
             [
              0.3333333333333333,
              "#9c179e"
             ],
             [
              0.4444444444444444,
              "#bd3786"
             ],
             [
              0.5555555555555556,
              "#d8576b"
             ],
             [
              0.6666666666666666,
              "#ed7953"
             ],
             [
              0.7777777777777778,
              "#fb9f3a"
             ],
             [
              0.8888888888888888,
              "#fdca26"
             ],
             [
              1,
              "#f0f921"
             ]
            ],
            "type": "heatmapgl"
           }
          ],
          "histogram": [
           {
            "marker": {
             "pattern": {
              "fillmode": "overlay",
              "size": 10,
              "solidity": 0.2
             }
            },
            "type": "histogram"
           }
          ],
          "histogram2d": [
           {
            "colorbar": {
             "outlinewidth": 0,
             "ticks": ""
            },
            "colorscale": [
             [
              0,
              "#0d0887"
             ],
             [
              0.1111111111111111,
              "#46039f"
             ],
             [
              0.2222222222222222,
              "#7201a8"
             ],
             [
              0.3333333333333333,
              "#9c179e"
             ],
             [
              0.4444444444444444,
              "#bd3786"
             ],
             [
              0.5555555555555556,
              "#d8576b"
             ],
             [
              0.6666666666666666,
              "#ed7953"
             ],
             [
              0.7777777777777778,
              "#fb9f3a"
             ],
             [
              0.8888888888888888,
              "#fdca26"
             ],
             [
              1,
              "#f0f921"
             ]
            ],
            "type": "histogram2d"
           }
          ],
          "histogram2dcontour": [
           {
            "colorbar": {
             "outlinewidth": 0,
             "ticks": ""
            },
            "colorscale": [
             [
              0,
              "#0d0887"
             ],
             [
              0.1111111111111111,
              "#46039f"
             ],
             [
              0.2222222222222222,
              "#7201a8"
             ],
             [
              0.3333333333333333,
              "#9c179e"
             ],
             [
              0.4444444444444444,
              "#bd3786"
             ],
             [
              0.5555555555555556,
              "#d8576b"
             ],
             [
              0.6666666666666666,
              "#ed7953"
             ],
             [
              0.7777777777777778,
              "#fb9f3a"
             ],
             [
              0.8888888888888888,
              "#fdca26"
             ],
             [
              1,
              "#f0f921"
             ]
            ],
            "type": "histogram2dcontour"
           }
          ],
          "mesh3d": [
           {
            "colorbar": {
             "outlinewidth": 0,
             "ticks": ""
            },
            "type": "mesh3d"
           }
          ],
          "parcoords": [
           {
            "line": {
             "colorbar": {
              "outlinewidth": 0,
              "ticks": ""
             }
            },
            "type": "parcoords"
           }
          ],
          "pie": [
           {
            "automargin": true,
            "type": "pie"
           }
          ],
          "scatter": [
           {
            "marker": {
             "line": {
              "color": "#283442"
             }
            },
            "type": "scatter"
           }
          ],
          "scatter3d": [
           {
            "line": {
             "colorbar": {
              "outlinewidth": 0,
              "ticks": ""
             }
            },
            "marker": {
             "colorbar": {
              "outlinewidth": 0,
              "ticks": ""
             }
            },
            "type": "scatter3d"
           }
          ],
          "scattercarpet": [
           {
            "marker": {
             "colorbar": {
              "outlinewidth": 0,
              "ticks": ""
             }
            },
            "type": "scattercarpet"
           }
          ],
          "scattergeo": [
           {
            "marker": {
             "colorbar": {
              "outlinewidth": 0,
              "ticks": ""
             }
            },
            "type": "scattergeo"
           }
          ],
          "scattergl": [
           {
            "marker": {
             "line": {
              "color": "#283442"
             }
            },
            "type": "scattergl"
           }
          ],
          "scattermapbox": [
           {
            "marker": {
             "colorbar": {
              "outlinewidth": 0,
              "ticks": ""
             }
            },
            "type": "scattermapbox"
           }
          ],
          "scatterpolar": [
           {
            "marker": {
             "colorbar": {
              "outlinewidth": 0,
              "ticks": ""
             }
            },
            "type": "scatterpolar"
           }
          ],
          "scatterpolargl": [
           {
            "marker": {
             "colorbar": {
              "outlinewidth": 0,
              "ticks": ""
             }
            },
            "type": "scatterpolargl"
           }
          ],
          "scatterternary": [
           {
            "marker": {
             "colorbar": {
              "outlinewidth": 0,
              "ticks": ""
             }
            },
            "type": "scatterternary"
           }
          ],
          "surface": [
           {
            "colorbar": {
             "outlinewidth": 0,
             "ticks": ""
            },
            "colorscale": [
             [
              0,
              "#0d0887"
             ],
             [
              0.1111111111111111,
              "#46039f"
             ],
             [
              0.2222222222222222,
              "#7201a8"
             ],
             [
              0.3333333333333333,
              "#9c179e"
             ],
             [
              0.4444444444444444,
              "#bd3786"
             ],
             [
              0.5555555555555556,
              "#d8576b"
             ],
             [
              0.6666666666666666,
              "#ed7953"
             ],
             [
              0.7777777777777778,
              "#fb9f3a"
             ],
             [
              0.8888888888888888,
              "#fdca26"
             ],
             [
              1,
              "#f0f921"
             ]
            ],
            "type": "surface"
           }
          ],
          "table": [
           {
            "cells": {
             "fill": {
              "color": "#506784"
             },
             "line": {
              "color": "rgb(17,17,17)"
             }
            },
            "header": {
             "fill": {
              "color": "#2a3f5f"
             },
             "line": {
              "color": "rgb(17,17,17)"
             }
            },
            "type": "table"
           }
          ]
         },
         "layout": {
          "annotationdefaults": {
           "arrowcolor": "#f2f5fa",
           "arrowhead": 0,
           "arrowwidth": 1
          },
          "autotypenumbers": "strict",
          "coloraxis": {
           "colorbar": {
            "outlinewidth": 0,
            "ticks": ""
           }
          },
          "colorscale": {
           "diverging": [
            [
             0,
             "#8e0152"
            ],
            [
             0.1,
             "#c51b7d"
            ],
            [
             0.2,
             "#de77ae"
            ],
            [
             0.3,
             "#f1b6da"
            ],
            [
             0.4,
             "#fde0ef"
            ],
            [
             0.5,
             "#f7f7f7"
            ],
            [
             0.6,
             "#e6f5d0"
            ],
            [
             0.7,
             "#b8e186"
            ],
            [
             0.8,
             "#7fbc41"
            ],
            [
             0.9,
             "#4d9221"
            ],
            [
             1,
             "#276419"
            ]
           ],
           "sequential": [
            [
             0,
             "#0d0887"
            ],
            [
             0.1111111111111111,
             "#46039f"
            ],
            [
             0.2222222222222222,
             "#7201a8"
            ],
            [
             0.3333333333333333,
             "#9c179e"
            ],
            [
             0.4444444444444444,
             "#bd3786"
            ],
            [
             0.5555555555555556,
             "#d8576b"
            ],
            [
             0.6666666666666666,
             "#ed7953"
            ],
            [
             0.7777777777777778,
             "#fb9f3a"
            ],
            [
             0.8888888888888888,
             "#fdca26"
            ],
            [
             1,
             "#f0f921"
            ]
           ],
           "sequentialminus": [
            [
             0,
             "#0d0887"
            ],
            [
             0.1111111111111111,
             "#46039f"
            ],
            [
             0.2222222222222222,
             "#7201a8"
            ],
            [
             0.3333333333333333,
             "#9c179e"
            ],
            [
             0.4444444444444444,
             "#bd3786"
            ],
            [
             0.5555555555555556,
             "#d8576b"
            ],
            [
             0.6666666666666666,
             "#ed7953"
            ],
            [
             0.7777777777777778,
             "#fb9f3a"
            ],
            [
             0.8888888888888888,
             "#fdca26"
            ],
            [
             1,
             "#f0f921"
            ]
           ]
          },
          "colorway": [
           "#636efa",
           "#EF553B",
           "#00cc96",
           "#ab63fa",
           "#FFA15A",
           "#19d3f3",
           "#FF6692",
           "#B6E880",
           "#FF97FF",
           "#FECB52"
          ],
          "font": {
           "color": "#f2f5fa"
          },
          "geo": {
           "bgcolor": "rgb(17,17,17)",
           "lakecolor": "rgb(17,17,17)",
           "landcolor": "rgb(17,17,17)",
           "showlakes": true,
           "showland": true,
           "subunitcolor": "#506784"
          },
          "hoverlabel": {
           "align": "left"
          },
          "hovermode": "closest",
          "mapbox": {
           "style": "dark"
          },
          "paper_bgcolor": "rgb(17,17,17)",
          "plot_bgcolor": "rgb(17,17,17)",
          "polar": {
           "angularaxis": {
            "gridcolor": "#506784",
            "linecolor": "#506784",
            "ticks": ""
           },
           "bgcolor": "rgb(17,17,17)",
           "radialaxis": {
            "gridcolor": "#506784",
            "linecolor": "#506784",
            "ticks": ""
           }
          },
          "scene": {
           "xaxis": {
            "backgroundcolor": "rgb(17,17,17)",
            "gridcolor": "#506784",
            "gridwidth": 2,
            "linecolor": "#506784",
            "showbackground": true,
            "ticks": "",
            "zerolinecolor": "#C8D4E3"
           },
           "yaxis": {
            "backgroundcolor": "rgb(17,17,17)",
            "gridcolor": "#506784",
            "gridwidth": 2,
            "linecolor": "#506784",
            "showbackground": true,
            "ticks": "",
            "zerolinecolor": "#C8D4E3"
           },
           "zaxis": {
            "backgroundcolor": "rgb(17,17,17)",
            "gridcolor": "#506784",
            "gridwidth": 2,
            "linecolor": "#506784",
            "showbackground": true,
            "ticks": "",
            "zerolinecolor": "#C8D4E3"
           }
          },
          "shapedefaults": {
           "line": {
            "color": "#f2f5fa"
           }
          },
          "sliderdefaults": {
           "bgcolor": "#C8D4E3",
           "bordercolor": "rgb(17,17,17)",
           "borderwidth": 1,
           "tickwidth": 0
          },
          "ternary": {
           "aaxis": {
            "gridcolor": "#506784",
            "linecolor": "#506784",
            "ticks": ""
           },
           "baxis": {
            "gridcolor": "#506784",
            "linecolor": "#506784",
            "ticks": ""
           },
           "bgcolor": "rgb(17,17,17)",
           "caxis": {
            "gridcolor": "#506784",
            "linecolor": "#506784",
            "ticks": ""
           }
          },
          "title": {
           "x": 0.05
          },
          "updatemenudefaults": {
           "bgcolor": "#506784",
           "borderwidth": 0
          },
          "xaxis": {
           "automargin": true,
           "gridcolor": "#283442",
           "linecolor": "#506784",
           "ticks": "",
           "title": {
            "standoff": 15
           },
           "zerolinecolor": "#283442",
           "zerolinewidth": 2
          },
          "yaxis": {
           "automargin": true,
           "gridcolor": "#283442",
           "linecolor": "#506784",
           "ticks": "",
           "title": {
            "standoff": 15
           },
           "zerolinecolor": "#283442",
           "zerolinewidth": 2
          }
         }
        },
        "title": {
         "text": "Emocije zastupljene u recenzijama na Amazonu"
        },
        "xaxis": {
         "anchor": "y",
         "categoryarray": [
          "neutral",
          "joy",
          "sadness",
          "anger",
          "surprise"
         ],
         "categoryorder": "array",
         "domain": [
          0,
          1
         ],
         "title": {
          "text": "Emotion Label"
         }
        },
        "yaxis": {
         "anchor": "x",
         "domain": [
          0,
          1
         ],
         "title": {
          "text": "count"
         }
        }
       }
      }
     },
     "metadata": {},
     "output_type": "display_data"
    }
   ],
   "source": [
    "import plotly.express as px\n",
    "\n",
    "# Pomocu histograma prikazujemo sve emocije u recenzijama na Amazonu\n",
    "plot_title = \"Emocije zastupljene u recenzijama na Amazonu\"\n",
    "fig = px.histogram(df, x=\"Emotion Label\", template=\"plotly_dark\",\n",
    "                   title=plot_title, color=\"Emotion Label\")\n",
    "fig.update_layout(showlegend=False)\n",
    "fig.show()"
   ]
  }
 ],
 "metadata": {
  "kernelspec": {
   "display_name": "Python 3",
   "language": "python",
   "name": "python3"
  },
  "language_info": {
   "codemirror_mode": {
    "name": "ipython",
    "version": 3
   },
   "file_extension": ".py",
   "mimetype": "text/x-python",
   "name": "python",
   "nbconvert_exporter": "python",
   "pygments_lexer": "ipython3",
   "version": "3.10.9"
  }
 },
 "nbformat": 4,
 "nbformat_minor": 2
}
